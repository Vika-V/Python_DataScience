{
 "cells": [
  {
   "cell_type": "markdown",
   "metadata": {},
   "source": [
    "## Live coding ssignment one\n",
    "Vika Vijayanand "
   ]
  },
  {
   "cell_type": "markdown",
   "metadata": {},
   "source": [
    "## Q 1\n",
    "#### Assign the value of 384 divided by 16.43 to a variable called “result”. Then add 17.67 to it. Make sure that the returned value is a float."
   ]
  },
  {
   "cell_type": "code",
   "execution_count": 1,
   "metadata": {},
   "outputs": [
    {
     "data": {
      "text/plain": [
       "41.041880706025566"
      ]
     },
     "execution_count": 1,
     "metadata": {},
     "output_type": "execute_result"
    }
   ],
   "source": [
    "result = 384/16.43\n",
    "result += 17.67\n",
    "float(result)"
   ]
  },
  {
   "cell_type": "markdown",
   "metadata": {},
   "source": [
    "## Q 2 \n",
    "#### Create a list with elements 2, Python, 23.54, 34, and list, and assign it to a variable called “my list”. Next, delete the second last item of my list"
   ]
  },
  {
   "cell_type": "code",
   "execution_count": 4,
   "metadata": {},
   "outputs": [
    {
     "name": "stdout",
     "output_type": "stream",
     "text": [
      "[2, 'Python', 23.54, 'list']\n"
     ]
    }
   ],
   "source": [
    "my_list = [2, \"Python\", 23.54, 34, \"list\"]\n",
    "del(my_list[-2])\n"
   ]
  },
  {
   "cell_type": "markdown",
   "metadata": {},
   "source": [
    "## Q 3\n",
    "#### Create a tuple with the values from 2 to 15, and assign it to a variable called “my tuple”. Then, get the first 5 values and assign it to a variable called “my sliced tuple”. Finally, change the value of the second last element of “my sliced tuple” to 20."
   ]
  },
  {
   "cell_type": "code",
   "execution_count": 1,
   "metadata": {},
   "outputs": [
    {
     "name": "stdout",
     "output_type": "stream",
     "text": [
      "[2, 3, 4, 20, 6]\n"
     ]
    }
   ],
   "source": [
    "my_tuple = tuple(range(2,16))\n",
    "my_sliced_tuple = my_tuple[:5]\n",
    "t = list(my_sliced_tuple)\n",
    "t[-2]= 20\n",
    "my_sliced_tuple= list(t)\n",
    "print(my_sliced_tuple)"
   ]
  },
  {
   "cell_type": "markdown",
   "metadata": {},
   "source": [
    "## Q 4\n",
    "#### Define a list called “fruits” with the following elements: apple, peach, cherry, banana, pear, orange, lemon. Print the elements to screen in your list using a for loop, but exit the loop before printing the word “pear”."
   ]
  },
  {
   "cell_type": "code",
   "execution_count": 2,
   "metadata": {},
   "outputs": [
    {
     "name": "stdout",
     "output_type": "stream",
     "text": [
      "apple\n",
      "peach\n",
      "cherry\n",
      "banana\n"
     ]
    }
   ],
   "source": [
    "fruits = [\"apple\", \"peach\", \"cherry\", \"banana\", \"pear\", \"orange\", \"lemon\"]\n",
    "for i in fruits:\n",
    "    if fruits.index(i) < 4:\n",
    "        print(i)\n",
    "    else:\n",
    "        break"
   ]
  },
  {
   "cell_type": "markdown",
   "metadata": {},
   "source": [
    "## Q 5\n",
    "\n",
    "#### Create a dictionary where the keys are the words Colorado, Boston, Edmonton and Minnesota and the values are Avalanche, Bruins, Oilers, Twins and assign it to a variable called “my dict”. Print the type of my dict and the dictionary itself to to screen. Next, change the value of the word Minnesota to Wild."
   ]
  },
  {
   "cell_type": "code",
   "execution_count": 11,
   "metadata": {},
   "outputs": [
    {
     "name": "stdout",
     "output_type": "stream",
     "text": [
      "<class 'dict'>\n",
      "{'Colorado': 'Avalanche', 'Boston': 'Bruins', 'Edmonton': 'Oilers', 'Minnesota': 'Wild'}\n"
     ]
    }
   ],
   "source": [
    "my_dict= {\"Colorado\": \"Avalanche\", \"Boston\": \"Bruins\",\"Edmonton\":\"Oilers\",\"Minnesota\":\"Twins\"}\n",
    "print(type(my_dict))\n",
    "my_dict[\"Minnesota\"]= \"Wild\"\n",
    "print(my_dict)"
   ]
  },
  {
   "cell_type": "markdown",
   "metadata": {},
   "source": [
    "## Q 6\n",
    "#### Use a while loop to calculate the sum of the integers from 0 to 12 and after completing the loop, else statement executes. "
   ]
  },
  {
   "cell_type": "code",
   "execution_count": 32,
   "metadata": {},
   "outputs": [
    {
     "name": "stdout",
     "output_type": "stream",
     "text": [
      "210\n"
     ]
    }
   ],
   "source": [
    "sum = 0\n",
    "x = 0\n",
    "while x < 13:\n",
    "    sum = sum + x\n",
    "    x += 1\n",
    "else:    \n",
    "    print(sum)\n"
   ]
  },
  {
   "cell_type": "markdown",
   "metadata": {},
   "source": [
    "## Q 7\n",
    "#### Create a list called “num1” with elements 1,4,6,7 and a second list called “num2” with elements 1,2,5,6. Create a program that prints to screen the sum of two elements of the lists if they equal or their product if they are not the same. Hint: Use nested for loops."
   ]
  },
  {
   "cell_type": "code",
   "execution_count": 28,
   "metadata": {},
   "outputs": [
    {
     "name": "stdout",
     "output_type": "stream",
     "text": [
      "2\n",
      "2\n",
      "5\n",
      "6\n",
      "4\n",
      "8\n",
      "20\n",
      "24\n",
      "6\n",
      "12\n",
      "30\n",
      "12\n",
      "7\n",
      "14\n",
      "35\n",
      "42\n"
     ]
    }
   ],
   "source": [
    "num1 = [1, 4,6, 7]\n",
    "num2 = [1,2,5,6]\n",
    "for x in num1:\n",
    "    for y in num2:\n",
    "        if x == y:\n",
    "            print(x+y)\n",
    "        else:\n",
    "            print(x*y)"
   ]
  },
  {
   "cell_type": "markdown",
   "metadata": {},
   "source": [
    "## Q 8\n",
    "#### Create a function called “square odd number” that takes a number and squares it if the number is odd and prints the message “Error, the passed value is not odd”. Test your function with the values 11 and 14 by printing the results to screen."
   ]
  },
  {
   "cell_type": "code",
   "execution_count": 31,
   "metadata": {},
   "outputs": [
    {
     "name": "stdout",
     "output_type": "stream",
     "text": [
      "121\n",
      "Error, the passed value is not odd\n"
     ]
    }
   ],
   "source": [
    "def square_odd_number(x):\n",
    "    y = x**2\n",
    "    if y % 2 != 0:\n",
    "        print(y)\n",
    "    else:\n",
    "        print(\"Error, the passed value is not odd\")\n",
    "square_odd_number(11)\n",
    "square_odd_number(14)"
   ]
  },
  {
   "cell_type": "code",
   "execution_count": null,
   "metadata": {},
   "outputs": [],
   "source": []
  }
 ],
 "metadata": {
  "kernelspec": {
   "display_name": "Python 3",
   "language": "python",
   "name": "python3"
  },
  "language_info": {
   "codemirror_mode": {
    "name": "ipython",
    "version": 3
   },
   "file_extension": ".py",
   "mimetype": "text/x-python",
   "name": "python",
   "nbconvert_exporter": "python",
   "pygments_lexer": "ipython3",
   "version": "3.7.6"
  }
 },
 "nbformat": 4,
 "nbformat_minor": 4
}
